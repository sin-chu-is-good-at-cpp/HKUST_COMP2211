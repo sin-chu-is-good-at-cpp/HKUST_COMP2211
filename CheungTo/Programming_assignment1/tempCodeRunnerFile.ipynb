X = np.repeat(abundance_matrix[:, :, np.newaxis], 3, axis=2)
    # print(X)