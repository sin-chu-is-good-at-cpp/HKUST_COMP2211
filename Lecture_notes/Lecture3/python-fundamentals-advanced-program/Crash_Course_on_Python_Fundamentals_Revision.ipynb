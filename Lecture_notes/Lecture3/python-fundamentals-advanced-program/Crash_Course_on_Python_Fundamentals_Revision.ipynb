{
  "nbformat": 4,
  "nbformat_minor": 0,
  "metadata": {
    "colab": {
      "provenance": []
    },
    "kernelspec": {
      "name": "python3",
      "display_name": "Python 3"
    },
    "language_info": {
      "name": "python"
    }
  },
  "cells": [
    {
      "cell_type": "code",
      "execution_count": null,
      "metadata": {
        "colab": {
          "base_uri": "https://localhost:8080/"
        },
        "id": "blcsrgh5twfY",
        "outputId": "6d26642c-635d-4568-a340-d95a24bdc0c7"
      },
      "outputs": [
        {
          "output_type": "stream",
          "name": "stdout",
          "text": [
            "<class 'int'>\n",
            "3\n",
            "4\n",
            "2\n",
            "6\n",
            "1.5\n",
            "1\n",
            "1\n",
            "9\n",
            "4\n",
            "8\n",
            "<class 'float'>\n",
            "2.5 3.5 5.0 6.25\n"
          ]
        }
      ],
      "source": [
        "# Page 8: Integers and Floats\n",
        "\n",
        "x = 3\n",
        "print(type(x))                 # Print \"<class 'int'>\"\n",
        "print(x)                       # Print \"3\"\n",
        "print(x + 1)                   # Addition; print \"4\"\n",
        "print(x - 1)                   # Subtraction; print \"2\"\n",
        "print(x * 2)                   # Multiplication; print \"6\"\n",
        "print(x / 2)                   # Division, print \"1.5\"\n",
        "print(x // 2)                  # Integer division, print \"1\"\n",
        "print(x % 2)                   # Modulus; print \"1\"\n",
        "print(x ** 2)                  # Exponentiation; print \"9\"\n",
        "x += 1;  print(x)              # Print \"4\"\n",
        "x *= 2;  print(x)              # Print \"8\"\n",
        "y = 2.5; print(type(y))        # Print \"<class 'float'>\"\n",
        "print(y, y + 1, y * 2, y ** 2) # Print \"2.5 3.5 5.0 6.25\""
      ]
    },
    {
      "cell_type": "code",
      "source": [
        "# Page 9: Booleans\n",
        "\n",
        "print(1 + 1 != 3)  # Print \"True\"\n",
        "print(4 + 6 == 10) # Print \"True\"\n",
        "x = 3; y = 5\n",
        "print(x + y > 7)   # Print \"True\"\n",
        "print(x * y <= 7)  # Print \"False\"\n",
        "\n",
        "t = True; f = False\n",
        "print(type(t)) # Print \"<class 'bool'>\"\n",
        "print(t and f) # Logical AND; print \"False\"\n",
        "print(t or f)  # Logical OR; print \"True\"\n",
        "print(not t)   # Logical NOT; print \"False\"\n",
        "print(t != f)  # Logical XOR; print \"True\""
      ],
      "metadata": {
        "colab": {
          "base_uri": "https://localhost:8080/"
        },
        "id": "zqMog4fVt89L",
        "outputId": "e5e0ad48-b382-4b19-a78b-7a1cd3c158dd"
      },
      "execution_count": null,
      "outputs": [
        {
          "output_type": "stream",
          "name": "stdout",
          "text": [
            "True\n",
            "True\n",
            "True\n",
            "False\n",
            "<class 'bool'>\n",
            "False\n",
            "True\n",
            "False\n",
            "True\n"
          ]
        }
      ]
    },
    {
      "cell_type": "code",
      "source": [
        "# Page 10: Strings\n",
        "\n",
        "hello = 'hello'           # String literals can use single quotes\n",
        "world = \"world\"           # or double quotes; it does not matter\n",
        "print(hello)              # Print \"hello\"\n",
        "print(len(hello))         # String length; print \"5\"\n",
        "hw = hello + ' ' + world  # String concatenation\n",
        "print(hw)                 # Print \"hello world\"\n",
        "hw12 = '%s %s %d' % (hello, world, 12)  # sprintf style string formatting\n",
        "print(hw12)               # Print \"hello world 12\"\n",
        "print(type(hw12))         # Print \"<class 'str'>\"\n",
        "print(hello * 3)          # Print \"hellohellohello\",\n",
        "                          # i.e., \"hello\" is duplicated by 3 times"
      ],
      "metadata": {
        "colab": {
          "base_uri": "https://localhost:8080/"
        },
        "id": "t5lTKdzIuDS8",
        "outputId": "9e0a2a89-f1ca-4e00-ca83-11430b16ee04"
      },
      "execution_count": null,
      "outputs": [
        {
          "output_type": "stream",
          "name": "stdout",
          "text": [
            "hello\n",
            "5\n",
            "hello world\n",
            "hello world 12\n",
            "<class 'str'>\n",
            "hellohellohello\n"
          ]
        }
      ]
    },
    {
      "cell_type": "code",
      "source": [
        "# Page 12: Examples\n",
        "\n",
        "unicode_string = u'COMP2211'\n",
        "print(unicode_string)      # Print \"COMP2211\"\n",
        "\n",
        "byte_string = b'COMP2211'\n",
        "print(type(byte_string))   # Print \"<class 'bytes'>\"\n",
        "decode_string = byte_string.decode('utf-8')\n",
        "print(type(decode_string)) # Print \"<class 'str'>\"\n",
        "encode_string = decode_string.encode('utf-8')\n",
        "print(type(encode_string)) # Print \"<class 'bytes'>\"\n",
        "\n",
        "raw_string = r'Hi\\nHello'\n",
        "print(raw_string)          # Print \"Hi\\nHello\"\n",
        "\n",
        "a = 1\n",
        "b = 2\n",
        "print(f'a + b = {a+b}')    # Print \"a + b = 3\""
      ],
      "metadata": {
        "colab": {
          "base_uri": "https://localhost:8080/"
        },
        "id": "tLKwUXi3uN3g",
        "outputId": "bbbaa15b-6d3a-4646-f550-9d949df19bf2"
      },
      "execution_count": null,
      "outputs": [
        {
          "output_type": "stream",
          "name": "stdout",
          "text": [
            "COMP2211\n",
            "<class 'bytes'>\n",
            "<class 'str'>\n",
            "<class 'bytes'>\n",
            "Hi\\nHello\n",
            "a + b = 3\n"
          ]
        }
      ]
    },
    {
      "cell_type": "code",
      "source": [
        "# Page 13: String Objects\n",
        "\n",
        "s = \"hello\"\n",
        "print(s.capitalize())           # Capitalize a string; prints \"Hello\"\n",
        "print(s.upper())                # Convert a string to uppercase; prints \"HELLO\"\n",
        "print(s.rjust(7))               # Right-justify a string, padding with spaces;\n",
        "                                # Print \"  hello\"\n",
        "print(s.center(7))              # Center a string, padding with spaces;\n",
        "                                # Print \" hello \"\n",
        "print(s.replace('l', '(ell)'))  # Replace all instances of one substring\n",
        "                                # with another; print \"he(ell)(ell)o\"\n",
        "print('  world '.strip())       # Strip leading and trailing whitespace;\n",
        "                                # print \"world\""
      ],
      "metadata": {
        "colab": {
          "base_uri": "https://localhost:8080/"
        },
        "id": "TQoQYL3puUjp",
        "outputId": "2e8b8e4c-0018-4c01-be8d-2173582c2967"
      },
      "execution_count": null,
      "outputs": [
        {
          "output_type": "stream",
          "name": "stdout",
          "text": [
            "Hello\n",
            "HELLO\n",
            "  hello\n",
            " hello \n",
            "he(ell)(ell)o\n",
            "world\n"
          ]
        }
      ]
    },
    {
      "cell_type": "code",
      "source": [
        "# Page 14: Type Conversion\n",
        "\n",
        "print(int('3') + 5)  # Print \"8\"\n",
        "print('3' + str(5))  # Print \"35\"\n",
        "print(float(3) + 3)  # Print \"6.0\"\n",
        "print(int(3.14) + 3) # Print \"6\""
      ],
      "metadata": {
        "colab": {
          "base_uri": "https://localhost:8080/"
        },
        "id": "U848RUXwuaot",
        "outputId": "64b05a40-8142-4e83-a20c-98a40d1980d9"
      },
      "execution_count": null,
      "outputs": [
        {
          "output_type": "stream",
          "name": "stdout",
          "text": [
            "8\n",
            "35\n",
            "6.0\n",
            "6\n"
          ]
        }
      ]
    },
    {
      "cell_type": "code",
      "source": [
        "# Page 16: Output Data to Standard Output Device\n",
        "\n",
        "print('COMP2211 is the best COMP course :D') # Print a string\n",
        "\n",
        "age = 18\n",
        "print('I am', age, 'years old')     # Print 'I am 18 years old'\n",
        "\n",
        "print(2, 2, 1, 1)                   # Print 2 2 1 1\n",
        "print(2, 2, 1, 1, sep='@')          # Print 2@2@1@1\n",
        "print(2, 2, 1, 1, sep='~', end='*') # Print 2~2~1~1*\n",
        "print()                             # Print '\\n', i.e., move to the next line\n",
        "\n",
        "x = 'A+'; y = 'A'\n",
        "# Print 'Desmond will get A+ and John will get A'\n",
        "print('Desmond will get {} and John will get {}'.format(x,y))\n",
        "# Print 'Desmond will get A+ and John will get A'\n",
        "print('Desmond will get {0} and John will get {1}'.format(x,y))\n",
        "# Print 'Desmond will get A and John will get A+'\n",
        "print('Desmond will get {1} and John will get {0}'.format(x,y))\n",
        "# Print 'Desmond will get A+ and John will get A'\n",
        "print('Dsemond will get {a} and John will get {b}'.format(a = 'A+', b = 'A'))"
      ],
      "metadata": {
        "colab": {
          "base_uri": "https://localhost:8080/"
        },
        "id": "clUCT6N2ugaG",
        "outputId": "d440a434-456d-4fdc-968d-aa845bea5c26"
      },
      "execution_count": null,
      "outputs": [
        {
          "output_type": "stream",
          "name": "stdout",
          "text": [
            "COMP2211 is the best COMP course :D\n",
            "I am 18 years old\n",
            "2 2 1 1\n",
            "2@2@1@1\n",
            "2~2~1~1*\n",
            "Desmond will get A+ and John will get A\n",
            "Desmond will get A+ and John will get A\n",
            "Desmond will get A and John will get A+\n",
            "Dsemond will get A+ and John will get A\n"
          ]
        }
      ]
    },
    {
      "cell_type": "code",
      "source": [
        "# Page 17: Input Data\n",
        "\n",
        "age = input('Enter your age: ')\n",
        "print(age)              # Assume the input is 18. It prints \"18\"\n",
        "print(type(age))        # Print \"<class 'str'>\"\n",
        "print(type(int(age)))   # Print \"<class 'int'>\"\n",
        "print(type(float(age))) # Print \"<class 'float'>\"\n",
        "age = int(age) + 1      # Convert age to int and increase it by 1\n",
        "print('Now you are', age, 'years old') # Print \"Now you are 19 years old\""
      ],
      "metadata": {
        "colab": {
          "base_uri": "https://localhost:8080/"
        },
        "id": "CcEYh0WEunbA",
        "outputId": "e02f6d08-d643-4ea5-b792-92790e031bdb"
      },
      "execution_count": null,
      "outputs": [
        {
          "output_type": "stream",
          "name": "stdout",
          "text": [
            "Enter your age: 18\n",
            "18\n",
            "<class 'str'>\n",
            "<class 'int'>\n",
            "<class 'float'>\n",
            "Now you are 19 years old\n"
          ]
        }
      ]
    },
    {
      "cell_type": "code",
      "source": [
        "# Page 20: if statement\n",
        "\n",
        "num = int(input('Enter a number: '))\n",
        "\n",
        "if num % 2 == 0:\n",
        "   print(\"The number is even.\")"
      ],
      "metadata": {
        "colab": {
          "base_uri": "https://localhost:8080/"
        },
        "id": "0GeN2kzmgQBn",
        "outputId": "cdcf092d-f72b-42bd-9ed7-4a5a7ff75adf"
      },
      "execution_count": 1,
      "outputs": [
        {
          "output_type": "stream",
          "name": "stdout",
          "text": [
            "Enter a number: 10\n",
            "The number is even.\n"
          ]
        }
      ]
    },
    {
      "cell_type": "code",
      "source": [
        "# Page 20: if-else statement\n",
        "\n",
        "num = int(input('Enter a number: '))\n",
        "\n",
        "if num % 2 == 0:\n",
        "   print(\"The number is even.\")\n",
        "else:\n",
        "   print(\"The number if odd.\")"
      ],
      "metadata": {
        "colab": {
          "base_uri": "https://localhost:8080/"
        },
        "id": "ErNb6qJEgY6e",
        "outputId": "520beb02-b689-4448-dd00-c78ae86dcd75"
      },
      "execution_count": 4,
      "outputs": [
        {
          "output_type": "stream",
          "name": "stdout",
          "text": [
            "Enter a number: 3\n",
            "The number if odd.\n"
          ]
        }
      ]
    },
    {
      "cell_type": "code",
      "source": [
        "# Page 21: if-else using logical operator\n",
        "\n",
        "score1 = int(input('Enter first score: '))\n",
        "score2 = int(input('Enter second score: '))\n",
        "score3 = int(input('Enter third score: '))\n",
        "\n",
        "if score1 == score2 and score2 == score3:\n",
        "   print(\"All three scores are the same\")\n",
        "else:\n",
        "   print(\"Not all three scores are the same\")"
      ],
      "metadata": {
        "colab": {
          "base_uri": "https://localhost:8080/"
        },
        "id": "AC6a2_QHgpMO",
        "outputId": "bc7396a7-e9e7-4a31-bf03-5d4cc3fb33d6"
      },
      "execution_count": 6,
      "outputs": [
        {
          "output_type": "stream",
          "name": "stdout",
          "text": [
            "Enter first score: 8\n",
            "Enter second score: 8\n",
            "Enter third score: 7\n",
            "Not all three scores are the same\n"
          ]
        }
      ]
    },
    {
      "cell_type": "code",
      "source": [
        "# Page 22: if-elif-else\n",
        "\n",
        "num1 = int(input('Enter first number: '))\n",
        "num2 = int(input('Enter second number: '))\n",
        "num3 = int(input('Enter third number: '))\n",
        "\n",
        "if num > num2 and num1 > num3:\n",
        "   largest = num1\n",
        "elif num2 > num1 and num2 > num3:\n",
        "   largest = num2\n",
        "else:\n",
        "   largest = num3\n",
        "print(\"The largest number is\", largest)"
      ],
      "metadata": {
        "id": "C_QXoASrg1e5"
      },
      "execution_count": null,
      "outputs": []
    },
    {
      "cell_type": "code",
      "source": [
        "# Page 23: Nested if-else\n",
        "\n",
        "num = int(input('Enter a number: '))\n",
        "\n",
        "if num != 0:\n",
        "   if num > 0:\n",
        "      print(\"Number is positive\")\n",
        "   else:\n",
        "      print(\"Number is negative\")\n",
        "else:\n",
        "   print(\"Number is zero\")"
      ],
      "metadata": {
        "id": "H7l3EBdeg_mO"
      },
      "execution_count": null,
      "outputs": []
    },
    {
      "cell_type": "code",
      "source": [
        "# Page 28: While loop\n",
        "\n",
        "n = int(input('Enter a positive value n: '))\n",
        "count = 0\n",
        "while(count < n):\n",
        "  count = count + 1\n",
        "  print(\"COMP 2211 is a great COMP course\")"
      ],
      "metadata": {
        "id": "scXb57Q7hKij"
      },
      "execution_count": null,
      "outputs": []
    },
    {
      "cell_type": "code",
      "source": [
        "# Page 29: While loop with continue statement\n",
        "\n",
        "i = 0\n",
        "while i <= 10:\n",
        "   if i == 4:\n",
        "      i += 1\n",
        "      continue\n",
        "   print(\"Number:\", i)\n",
        "   i += 1"
      ],
      "metadata": {
        "id": "CTNYPBjXhSHR"
      },
      "execution_count": null,
      "outputs": []
    },
    {
      "cell_type": "code",
      "source": [
        "# Page 30: While loop with break statement\n",
        "\n",
        "i = 0\n",
        "while i <= 10:\n",
        "   if i == 4:\n",
        "      i += 1\n",
        "      break\n",
        "   print(\"Number:\", i)\n",
        "   i += 1"
      ],
      "metadata": {
        "id": "ZUyJkqUPhaze"
      },
      "execution_count": null,
      "outputs": []
    },
    {
      "cell_type": "code",
      "source": [
        "# Page 31: for loop\n",
        "\n",
        "course = \"COMP 2211\"\n",
        "for character in course:\n",
        "    print(character)\n",
        "\n",
        "languages = [\"Python\", \"Java\", \"C++\", \"Rust\"]\n",
        "for lang in languages:\n",
        "    print(lang)"
      ],
      "metadata": {
        "id": "Yu60UVQzhlwL"
      },
      "execution_count": null,
      "outputs": []
    },
    {
      "cell_type": "code",
      "source": [
        "# Page 32: for loop with continue statement\n",
        "\n",
        "course = \"COMP 2211\"\n",
        "for character in course:\n",
        "    if character == \" \":\n",
        "       continue\n",
        "    print(character)\n",
        "\n",
        "languages = [\"Python\", \"Java\", \"C++\", \"Rust\"]\n",
        "for lang in languages:\n",
        "    if lang == \"Java\":\n",
        "       continue\n",
        "    print(lang)"
      ],
      "metadata": {
        "id": "wdf-zIyzhqIU"
      },
      "execution_count": null,
      "outputs": []
    },
    {
      "cell_type": "code",
      "source": [
        "# Page 33: for loop with break statement\n",
        "\n",
        "course = \"COMP 2211\"\n",
        "for character in course:\n",
        "    if character == \" \":\n",
        "       break\n",
        "    print(character)\n",
        "\n",
        "languages = [\"Python\", \"Java\", \"C++\", \"Rust\"]\n",
        "for lang in languages:\n",
        "    if lang == \"Java\":\n",
        "       break\n",
        "    print(lang)"
      ],
      "metadata": {
        "id": "2uzdJcdfhxfg"
      },
      "execution_count": null,
      "outputs": []
    },
    {
      "cell_type": "code",
      "source": [
        "# Page 34: Nested for loops\n",
        "\n",
        "print(\"Prime numbers in the range 2 to 100 are:\")\n",
        "# range returns a sequence of numbers starting from 2, increments by 1 each time,\n",
        "# and stops before 101, i.e., 2, 3, 4, ..., 100\n",
        "for number in range(2,101):\n",
        "    isPrime = True\n",
        "    # Check if number is a prime number or not\n",
        "    for value in range(2,number):\n",
        "        # Check if any number in the range [2, number-1] divides value completely\n",
        "        if number % value == 0:\n",
        "            isPrime = False # The number is not prime\n",
        "            break           # Quit the loop\n",
        "    if isPrime:             # If isPrime is True, print number\n",
        "        print(number,end=\" \")"
      ],
      "metadata": {
        "id": "wSYs7_Agh2Nv"
      },
      "execution_count": null,
      "outputs": []
    },
    {
      "cell_type": "code",
      "source": [
        "# Page 35: Nested while loops\n",
        "\n",
        "# Print a 10x10 multiplication table\n",
        "\n",
        "i = 1\n",
        "while i <= 10:\n",
        "  j = 1\n",
        "  while j <= 10:\n",
        "    print((\"{:3d}\".format(i * j)), end='')\n",
        "    j += 1\n",
        "  i += 1\n",
        "  print()"
      ],
      "metadata": {
        "id": "zsWoEgT3h9A_"
      },
      "execution_count": null,
      "outputs": []
    },
    {
      "cell_type": "code",
      "source": [
        "# Page 40: Lists\n",
        "\n",
        "xs = [3, 1, 2]    # Create a list\n",
        "print(xs, xs[2])  # Print \"[3, 1, 2] 2\"\n",
        "print(xs[-1])     # Negative indices count from the end of the list; print \"2\"\n",
        "xs[2] = 'foo'     # Lists can contain elements of different types\n",
        "print(xs)         # Print \"[3, 1, 'foo']\"\n",
        "xs.append('bar')  # Add a new element to the end of the list\n",
        "print(xs)         # Print \"[3, 1, 'foo', 'bar']\"\n",
        "x = xs.pop()      # Remove and return the last element of the list\n",
        "print(x, xs)      # Print \"bar [3, 1, 'foo']\"\n",
        "ys = ['a', 3, [4.5, 'c', True]] # Create another list\n",
        "print(ys)         # Print ['a', 3, [4.5, 'c', True]]\n",
        "print(ys[2][2])   # Print \"True\"\n",
        "ys += [4, 5, 6]   # Add 3 elements, 4, 5, 6 to ys\n",
        "print(ys)         # Print ['a', 3, [4.5, 'c', True], 4, 5, 6]\n",
        "ys.remove(5)      # Remove 4.5 from the list\n",
        "print(ys)         # Print ['a', 3, [4.5, 'c', True], 4, 6]"
      ],
      "metadata": {
        "colab": {
          "base_uri": "https://localhost:8080/"
        },
        "id": "UsM95taSuspk",
        "outputId": "3b3001a4-f71a-4cbc-b32c-b1a381a17a85"
      },
      "execution_count": null,
      "outputs": [
        {
          "output_type": "stream",
          "name": "stdout",
          "text": [
            "[3, 1, 2] 2\n",
            "2\n",
            "[3, 1, 'foo']\n",
            "[3, 1, 'foo', 'bar']\n",
            "bar [3, 1, 'foo']\n",
            "['a', 3, [4.5, 'c', True]]\n",
            "True\n",
            "['a', 3, [4.5, 'c', True], 4, 5, 6]\n",
            "['a', 3, [4.5, 'c', True], 4, 6]\n"
          ]
        }
      ]
    },
    {
      "cell_type": "code",
      "source": [
        "# Page 42: Slicing\n",
        "\n",
        "nums = list(range(5))     # range is a built-in function that creates a\n",
        "                          # list of integers, [0, 1, 2, 3, 4]\n",
        "print(nums)               # Print \"[0, 1, 2, 3, 4]\"\n",
        "print(nums[2:4])          # Get a slice from index 2 to 4 (exclusive);\n",
        "                          # print \"[2, 3]\"\n",
        "print(nums[2:])           # Get a slice from index 2 to the end;\n",
        "                          # print \"[2, 3, 4]\"\n",
        "print(nums[:2])           # Get a slice from the start to index 2 (exclusive);\n",
        "                          # print \"[0, 1]\"\n",
        "print(nums[:])            # Get a slice of the whole list;\n",
        "                          # print \"[0, 1, 2, 3, 4]\"\n",
        "print(nums[:-1])          # Slice indices can be negative;\n",
        "                          # print \"[0, 1, 2, 3]\"\n",
        "print(nums[0:4:2])        # Print \"[0, 2]\"\n",
        "nums[2:4] = [8, 9]        # Assign a new sublist to a slice\n",
        "print(nums)               # Print \"[0, 1, 8, 9, 4]\""
      ],
      "metadata": {
        "colab": {
          "base_uri": "https://localhost:8080/"
        },
        "id": "AnMw4tbzu0oN",
        "outputId": "60f03ae2-281d-4830-c75b-284b90bb9fab"
      },
      "execution_count": null,
      "outputs": [
        {
          "output_type": "stream",
          "name": "stdout",
          "text": [
            "[0, 1, 2, 3, 4]\n",
            "[2, 3]\n",
            "[2, 3, 4]\n",
            "[0, 1]\n",
            "[0, 1, 2, 3, 4]\n",
            "[0, 1, 2, 3]\n",
            "[0, 2]\n",
            "[0, 1, 8, 9, 4]\n"
          ]
        }
      ]
    },
    {
      "cell_type": "code",
      "source": [
        "# Page 43: Loops\n",
        "\n",
        "animals = ['cat', 'dog', 'monkey']\n",
        "for animal in animals:\n",
        "    print(animal)  # Prints \"cat\", \"dog\", \"monkey\", each on its own line.\n",
        "\n",
        "# Alternative\n",
        "# for index in range(3):\n",
        "#     print(animals[index])\n",
        "# Prints \"cat\", \"dog\", \"monkey\", each on its own line.\n",
        "\n",
        "i = 0\n",
        "while i < len(animals):\n",
        "    print(animals[i])\n",
        "    i = i + 1      # Prints \"cat\", \"dog\", \"monkey\", each on its own line."
      ],
      "metadata": {
        "colab": {
          "base_uri": "https://localhost:8080/"
        },
        "id": "T27pAqDju81_",
        "outputId": "dc51f212-7414-4ca5-b75a-8c66c85e9e50"
      },
      "execution_count": null,
      "outputs": [
        {
          "output_type": "stream",
          "name": "stdout",
          "text": [
            "cat\n",
            "dog\n",
            "monkey\n",
            "cat\n",
            "dog\n",
            "monkey\n"
          ]
        }
      ]
    },
    {
      "cell_type": "code",
      "source": [
        "# Page 47: Dictionaries\n",
        "\n",
        "d = {'cat': 'cute', 'dog': 'furry'}  # Create a new dictionary with some data\n",
        "print(d['cat'])       # Get an entry from a dictionary; prints \"cute\"\n",
        "print('cat' in d)     # Check if a dictionary has a given key; print \"True\"\n",
        "d['fish'] = 'wet'     # Set an entry in a dictionary\n",
        "print(d['fish'])      # Print \"wet\"\n",
        "# print(d['monkey'])  # KeyError: 'monkey' not a key of d\n",
        "print(d.get('monkey', 'N/A'))  # Get an element with a default; print \"N/A\"\n",
        "print(d.get('fish', 'N/A'))    # Get an element with a default; print \"wet\"\n",
        "del d['fish']                  # Remove an element from a dictionary\n",
        "print(d.get('fish', 'N/A'))    # \"fish\" is no longer a key; print \"N/A\"\n",
        "item = d.pop('cat')   # Remove the item with key 'cat' from the dictionary\n",
        "print(item)           # Print \"cute\"\n",
        "print(d)              # Print {'dog': 'furry'}"
      ],
      "metadata": {
        "colab": {
          "base_uri": "https://localhost:8080/"
        },
        "id": "xVuRzKJOvOWL",
        "outputId": "25e65b66-38fe-41d5-8a78-8a4d230026b9"
      },
      "execution_count": null,
      "outputs": [
        {
          "output_type": "stream",
          "name": "stdout",
          "text": [
            "cute\n",
            "True\n",
            "wet\n",
            "N/A\n",
            "wet\n",
            "N/A\n",
            "cute\n",
            "{'dog': 'furry'}\n"
          ]
        }
      ]
    },
    {
      "cell_type": "code",
      "source": [
        "# Page 51: Sets\n",
        "\n",
        "animals = {'cat', 'dog'}\n",
        "print('cat' in animals)   # Check if an element is in a set; prints \"True\"\n",
        "print('fish' in animals)  # Print \"False\"\n",
        "animals.add('fish')       # Add an element to a set\n",
        "print('fish' in animals)  # Print \"True\"\n",
        "print(len(animals))       # Number of elements in a set; prints \"3\"\n",
        "animals.add('cat')        # Adding an element that is already in the set\n",
        "                          # does nothing\n",
        "print(len(animals))       # Print \"3\"\n",
        "animals.remove('cat')     # Remove an element from a set\n",
        "print(len(animals))       # Print \"2\""
      ],
      "metadata": {
        "colab": {
          "base_uri": "https://localhost:8080/"
        },
        "id": "cNw4YIOGvU1f",
        "outputId": "63319406-8564-4ea8-fb8e-b15770432160"
      },
      "execution_count": null,
      "outputs": [
        {
          "output_type": "stream",
          "name": "stdout",
          "text": [
            "True\n",
            "False\n",
            "True\n",
            "3\n",
            "3\n",
            "2\n"
          ]
        }
      ]
    },
    {
      "cell_type": "code",
      "source": [
        "# Page 54: Tuples\n",
        "\n",
        "d = {(x, x + 1): x for x in range(10)}  # Create a dictionary with tuple keys\n",
        "t = (5, 6)        # Create a tuple\n",
        "print(type(t))    # Print \"<class 'tuple'>\"\n",
        "print(d[t])       # Print \"5\"\n",
        "print(d[(1, 2)])  # Print \"1\""
      ],
      "metadata": {
        "colab": {
          "base_uri": "https://localhost:8080/"
        },
        "id": "cwiTI7_hvgbZ",
        "outputId": "6f9db041-c29b-480e-a092-57f93dc3887d"
      },
      "execution_count": null,
      "outputs": [
        {
          "output_type": "stream",
          "name": "stdout",
          "text": [
            "<class 'tuple'>\n",
            "5\n",
            "1\n"
          ]
        }
      ]
    },
    {
      "cell_type": "code",
      "source": [
        "# Page 56: Functions\n",
        "\n",
        "def sign(x):\n",
        "    if x > 0:\n",
        "        return 'positive'\n",
        "    elif x < 0:\n",
        "        return 'negative'\n",
        "    else:\n",
        "        return 'zero'\n",
        "\n",
        "for x in [-1, 0, 1]:\n",
        "    print(sign(x))"
      ],
      "metadata": {
        "colab": {
          "base_uri": "https://localhost:8080/"
        },
        "id": "rVjaKxTevxro",
        "outputId": "61ab7ebb-912b-44d6-dc2c-71515de7a16d"
      },
      "execution_count": null,
      "outputs": [
        {
          "output_type": "stream",
          "name": "stdout",
          "text": [
            "negative\n",
            "zero\n",
            "positive\n"
          ]
        }
      ]
    },
    {
      "cell_type": "code",
      "source": [
        "# Page 57: Functions\n",
        "\n",
        "def assign_word():\n",
        "  global word\n",
        "  word = \"cool\"\n",
        "\n",
        "assign_word()\n",
        "\n",
        "# Print \"Desmond is really cool\"\n",
        "print(\"Desmond is really \" + word)"
      ],
      "metadata": {
        "colab": {
          "base_uri": "https://localhost:8080/"
        },
        "id": "x9VwTmUSv24T",
        "outputId": "ba35fe98-6225-4f72-b30f-7e1d61dee4ee"
      },
      "execution_count": null,
      "outputs": [
        {
          "output_type": "stream",
          "name": "stdout",
          "text": [
            "Desmond is really cool\n"
          ]
        }
      ]
    },
    {
      "cell_type": "code",
      "source": [
        "# Page 58: Functions\n",
        "\n",
        "def hello(name, loud=False):\n",
        "    if loud:\n",
        "        print('HELLO, %s!' % name.upper())\n",
        "    else:\n",
        "        print('Hello, %s' % name)\n",
        "\n",
        "hello('Bob')              # Print \"Hello, Bob\"\n",
        "hello('Fred', loud=True)  # Print \"HELLO, FRED!\""
      ],
      "metadata": {
        "colab": {
          "base_uri": "https://localhost:8080/"
        },
        "id": "NAm7c0WIwENm",
        "outputId": "82c467fc-ea82-47b1-e4c6-af15caea97b0"
      },
      "execution_count": null,
      "outputs": [
        {
          "output_type": "stream",
          "name": "stdout",
          "text": [
            "Hello, Bob\n",
            "HELLO, FRED!\n"
          ]
        }
      ]
    },
    {
      "cell_type": "code",
      "source": [
        "# Page 59: Recursion\n",
        "\n",
        "def factorial(n):\n",
        "    if n == 0: # base case\n",
        "       return 1\n",
        "    else:      # recursive case\n",
        "       return n * factorial(n-1)\n",
        "\n",
        "print(factorial(5))"
      ],
      "metadata": {
        "id": "1l0WGzAowYwx"
      },
      "execution_count": null,
      "outputs": []
    }
  ]
}