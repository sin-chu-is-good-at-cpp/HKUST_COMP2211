{
  "nbformat": 4,
  "nbformat_minor": 0,
  "metadata": {
    "colab": {
      "provenance": []
    },
    "kernelspec": {
      "name": "python3",
      "display_name": "Python 3"
    },
    "language_info": {
      "name": "python"
    }
  },
  "cells": [
    {
      "cell_type": "code",
      "execution_count": null,
      "metadata": {
        "id": "2e0CSZ-Bi0jx"
      },
      "outputs": [],
      "source": [
        "# Page 5: Data Types and type Function\n",
        "\n",
        "x = 3\n",
        "print(type(x))    # Print \"<class 'int'>\"\n",
        "y = 3.14\n",
        "print(type(y))    # Print \"<class 'float'>\"\n",
        "z = True\n",
        "print(type(z))    # Print \"<class 'bool'>\"\n",
        "str = \"Desmond\"\n",
        "print(type(str))  # Print \"<class 'str'>\"\n",
        "l = [1, 2, 3]\n",
        "print(type(l))    # Print \"<class 'list'>\"\n",
        "d = { 'cat': 'cute', 'dog' : 'furry' }\n",
        "print(type(d))    # Print \"<class 'dict'>\"\n",
        "s = { 1, 2, 3 }\n",
        "print(type(s))    # Print \"<class 'set'>\"\n",
        "t = ( 1, 2, 3 )\n",
        "print(type(t))    # Print \"<class 'tuple'>\""
      ]
    },
    {
      "cell_type": "code",
      "source": [
        "# Page 7: List Comprehensions\n",
        "\n",
        "nums = [0, 1, 2, 3, 4]\n",
        "squares = [x ** 2 for x in nums]\n",
        "print(squares)       # Prints [0, 1, 4, 9, 16]\n",
        "\n",
        "nums = [0, 1, 2, 3, 4]\n",
        "even_squares = [x ** 2 for x in nums if x % 2 == 0]\n",
        "print(even_squares)  # Prints \"[0, 4, 16]\""
      ],
      "metadata": {
        "id": "YSe-uGsbjIH9"
      },
      "execution_count": null,
      "outputs": []
    },
    {
      "cell_type": "code",
      "source": [
        "# Page 8: Dictionary Comprehensions\n",
        "\n",
        "nums = [0, 1, 2, 3, 4]\n",
        "even_num_to_square = {x: x ** 2 for x in nums if x % 2 == 0}\n",
        "print(even_num_to_square)  # Print \"{0: 0, 2: 4, 4: 16}\""
      ],
      "metadata": {
        "id": "gJEOaIZDjQ4j"
      },
      "execution_count": null,
      "outputs": []
    },
    {
      "cell_type": "code",
      "source": [
        "# Page 9: Set Comprehensions\n",
        "\n",
        "from math import sqrt\n",
        "nums = {int(sqrt(x)) for x in range(30)}\n",
        "print(nums)  # Print \"{0, 1, 2, 3, 4, 5}\""
      ],
      "metadata": {
        "id": "5iEM2mz_jgcN"
      },
      "execution_count": null,
      "outputs": []
    },
    {
      "cell_type": "code",
      "source": [
        "# Page 10: Difference between Lists and Tuples\n",
        "\n",
        "d = {(x, x + 1): x for x in range(10)}  # Create a dictionary with tuple keys\n",
        "t = (5, 6)        # Create a tuple\n",
        "print(type(t))    # Print \"<class 'tuple'>\"\n",
        "print(d[t])       # Print \"5\"\n",
        "print(d[(1, 2)])  # Print \"1\""
      ],
      "metadata": {
        "id": "8ULxjJmBjnB2"
      },
      "execution_count": null,
      "outputs": []
    },
    {
      "cell_type": "code",
      "source": [
        "# Page 12: Parallel Iteration\n",
        "\n",
        "fruits = ['apple', 'peach', 'banana', 'guava', 'papaya']\n",
        "colors = ['red', 'pink', 'yellow', 'green', 'orange']\n",
        "\n",
        "for name, color in zip(fruits, colors):\n",
        "    print(name, 'is', color)"
      ],
      "metadata": {
        "id": "N1LPjvfkjswE"
      },
      "execution_count": null,
      "outputs": []
    },
    {
      "cell_type": "code",
      "source": [
        "# Page 13: Functions (tuple of arguments)\n",
        "\n",
        "def print_kids(*kids):\n",
        "  print(\"The youngest child is \" + kids[2])\n",
        "\n",
        "# Print \"The youngest child is John\"\n",
        "print_kids(\"Desmond\", \"Peter\", \"John\")"
      ],
      "metadata": {
        "id": "-b2ZyhHDj2OR"
      },
      "execution_count": null,
      "outputs": []
    },
    {
      "cell_type": "code",
      "source": [
        "# Page 14: Functions (dictionary of arguments)\n",
        "\n",
        "def print_kid(**kid):\n",
        "  print(\"His first name is \" + kid[\"fname\"] + \", last name is \" + kid[\"lname\"])\n",
        "\n",
        "# Print \"His first name is Desmond, last name is Tsoi\"\n",
        "print_kid(fname = \"Desmond\", lname = \"Tsoi\")"
      ],
      "metadata": {
        "id": "DGUWZD3Wj8JP"
      },
      "execution_count": null,
      "outputs": []
    },
    {
      "cell_type": "code",
      "source": [
        "# Page 19: Class Example\n",
        "\n",
        "import math                           # Import math library\n",
        "\n",
        "class Circle:                         # Define a new type Circle\n",
        "  def __init__(self, radius):         # Define a constructor with parameter, radius\n",
        "    self.radius = radius                # Define an instance variable radius\n",
        "                                        # and assign it with parameter radius\n",
        "  def area(self):                     # Define the method: area\n",
        "    return math.pi * self.radius**2     # Compute the area of circle\n",
        "\n",
        "  def circumference(self):            # Define the method: circumference\n",
        "    return 2 * math.pi * self.radius    # Compute the circumference of circle\n",
        "\n",
        "circle_object = Circle(10)    # Define an object of Circle named circle_object\n",
        "circle_object.radius = 100    # Modify circle_object's radius to 100\n",
        "print(\"Area:\", circle_object.area())                   # Call area()\n",
        "print(\"Circumference:\", circle_object.circumference()) # Call circumference()"
      ],
      "metadata": {
        "id": "QhnB7zqzkDjy"
      },
      "execution_count": null,
      "outputs": []
    },
    {
      "cell_type": "code",
      "source": [
        "# Page 21: Access Private Instance Variables Outside Class (Error!!)\n",
        "\n",
        "class Person:\n",
        "  def __init__(self, name=\"Tom\",\n",
        "                     age=18,\n",
        "                     gender='M'):\n",
        "    # private instance\n",
        "    # variable __name\n",
        "    self.__name = name\n",
        "    # private instance\n",
        "    # variable __age\n",
        "    self.__age = age\n",
        "    # private instance\n",
        "    # variable __gender\n",
        "    self.__gender = gender\n",
        "\n",
        "  def print(self):\n",
        "    print('--- Print Person ---')\n",
        "    print('Name: ' + self.__name)\n",
        "    print('Age: ' + str(self.__age))\n",
        "    print('Gender: ' + self.__gender)\n",
        "\n",
        "desmond = Person('Haha', 18, 'M')\n",
        "\n",
        "print('Name: ' + desmond.__name)     # Error\n",
        "print('Age: ' + str(desmond.__age))  # Error\n",
        "print('Gender: ' + desmond.__gender) # Error\n",
        "# Okay, but do not change desmond.__name\n",
        "desmond.__name = 'Desmond'\n",
        "# Okay, but do not change desmond.__age\n",
        "desmond.__age = 19\n",
        "desmond.print()   # Okay"
      ],
      "metadata": {
        "id": "ZfkdwGSQkLmy"
      },
      "execution_count": null,
      "outputs": []
    },
    {
      "cell_type": "code",
      "source": [
        "# Page 23: Add Accessors and Mutators\n",
        "\n",
        "class Person:\n",
        "  def __init__(self, name='Tom',\n",
        "                     age=18,\n",
        "                     gender='M'):\n",
        "    self.__name = name\n",
        "    self.__age = age\n",
        "    self.__gender = gender\n",
        "\n",
        "  def get_name(self):       # Accessor\n",
        "    return self.__name\n",
        "\n",
        "  def get_age(self):        # Accessor\n",
        "    return self.__age\n",
        "\n",
        "  def get_gender(self):     # Accessor\n",
        "    return self.__gender\n",
        "\n",
        "  def set_name(self, name): # Mutator\n",
        "    self.__name = name\n",
        "\n",
        "    def set_age(self, age):     # Mutator\n",
        "    self.__age = age\n",
        "\n",
        "  def set_gender(self, gender): # Mutator\n",
        "    self.__gender = gender\n",
        "\n",
        "  def print(self):\n",
        "    print('--- Print Person ---')\n",
        "    print('Name: ' + self.__name)\n",
        "    print('Age: ' + str(self.__age))\n",
        "    print('Gender: ' + self.__gender)\n",
        "\n",
        "desmond = Person('Haha', 18, 'M')\n",
        "print('Name: ' + desmond.get_name())\n",
        "print('Age: ' + str(desmond.get_age()))\n",
        "print('Gender: ' + desmond.get_gender())\n",
        "desmond.set_name('Desmond')\n",
        "desmond.set_age(19)\n",
        "desmond.print()"
      ],
      "metadata": {
        "id": "EkYzNYRZkXtE"
      },
      "execution_count": null,
      "outputs": []
    },
    {
      "cell_type": "code",
      "source": [
        "# Page 25: Class Variables Example\n",
        "\n",
        "class Person:\n",
        "  num_person = 0  # Class variable\n",
        "  def __init__(self, name=\"Tom\", age=18, gender='M'):\n",
        "    self.__name = name\n",
        "    self.__age = age\n",
        "    self.__gender = gender\n",
        "    Person.num_person = Person.num_person + 1\n",
        "\n",
        "  def print(self):\n",
        "    print('--- Print Person ---')\n",
        "    print('Name: ' + self.__name)\n",
        "    print('Age: ' + str(self.__age))\n",
        "    print('Gender: ' + self.__gender)\n",
        "\n",
        "desmond = Person('Desmond', 18, 'M')\n",
        "pearl = Person('Pearl', 17, 'F')\n",
        "desmond.print()\n",
        "pearl.print()\n",
        "print(\"Total number of objects:\", Person.num_person)"
      ],
      "metadata": {
        "id": "q8f66jfikiN_"
      },
      "execution_count": null,
      "outputs": []
    }
  ]
}