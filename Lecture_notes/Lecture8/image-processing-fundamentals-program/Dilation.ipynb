{
  "nbformat": 4,
  "nbformat_minor": 0,
  "metadata": {
    "colab": {
      "name": "Dilation.ipynb",
      "provenance": [],
      "collapsed_sections": []
    },
    "kernelspec": {
      "name": "python3",
      "display_name": "Python 3"
    },
    "language_info": {
      "name": "python"
    }
  },
  "cells": [
    {
      "cell_type": "code",
      "execution_count": 21,
      "metadata": {
        "colab": {
          "base_uri": "https://localhost:8080/",
          "height": 1000
        },
        "id": "k3oWX8DDUhq1",
        "outputId": "cc3699a8-1963-47a7-a8c3-1fab56d9505b"
      },
      "outputs": [
        {
          "output_type": "stream",
          "name": "stdout",
          "text": [
            "Drive already mounted at /content/drive; to attempt to forcibly remount, call drive.mount(\"/content/drive\", force_remount=True).\n"
          ]
        },
        {
          "output_type": "execute_result",
          "data": {
            "text/plain": [
              "<matplotlib.image.AxesImage at 0x7fe538e2f490>"
            ]
          },
          "metadata": {},
          "execution_count": 21
        },
        {
          "output_type": "display_data",
          "data": {
            "text/plain": [
              "<Figure size 432x288 with 1 Axes>"
            ],
            "image/png": "[encoded data removed]"
          },
          "metadata": {
            "needs_background": "light"
          }
        },
        {
          "output_type": "display_data",
          "data": {
            "text/plain": [
              "<Figure size 432x288 with 1 Axes>"
            ],
            "image/png": "[encoded data removed]"
          },
          "metadata": {
            "needs_background": "light"
          }
        },
        {
          "output_type": "display_data",
          "data": {
            "text/plain": [
              "<Figure size 432x288 with 1 Axes>"
            ],
            "image/png": "[encoded data removed]"
          },
          "metadata": {
            "needs_background": "light"
          }
        },
        {
          "output_type": "display_data",
          "data": {
            "text/plain": [
              "<Figure size 432x288 with 1 Axes>"
            ],
            "image/png": "[encoded data removed]"
          },
          "metadata": {
            "needs_background": "light"
          }
        }
      ],
      "source": [
        "# Import drive from google.colab package\n",
        "from google.colab import drive\n",
        "# Import os and sys modules\n",
        "import os, sys\n",
        "\n",
        "# Mount Google Drive\n",
        "drive.mount('/content/drive')\n",
        "# Assume a folder \"images\" has been created, go to the folder \"images\"\n",
        "os.chdir('/content/drive/My Drive/images')\n",
        "# Add the path for interpreter to search\n",
        "sys.path.append('/content/drive/My Drive/images')\n",
        "\n",
        "import numpy as np\n",
        "\n",
        "structuring_element = np.array([ [0,1,0],\n",
        "                                 [1,1,1],\n",
        "                                 [0,1,0] ], np.uint8)\n",
        "plt.imshow(structuring_element, cmap='gray');\n",
        "\n",
        "from skimage.draw import disk\n",
        "import numpy as np\n",
        "\n",
        "circle_image = np.zeros((25, 40))\n",
        "circle_image[disk((12, 12), 8)] = 1\n",
        "circle_image[disk((12, 28), 8)] = 1\n",
        "for x in range(20):\n",
        "   circle_image[np.random.randint(25),\n",
        "                np.random.randint(40)] = 1\n",
        "plt.imshow(circle_image, cmap='gray');\n",
        "\n",
        "import cv2\n",
        "import matplotlib.pyplot as plt\n",
        "\n",
        "# Show circle\\_image\n",
        "plt.figure(); plt.imshow(circle_image, cmap='gray')\n",
        "# Show structuring element\n",
        "plt.figure(); plt.imshow(structuring_element, cmap='gray');\n",
        "# Perform erosion filter\n",
        "dilated_img = cv2.dilate(circle_image, structuring_element)\n",
        "# Show the resulting image\n",
        "plt.figure(); plt.imshow(dilated_img, cmap='gray')"
      ]
    },
    {
      "cell_type": "code",
      "source": [
        ""
      ],
      "metadata": {
        "id": "2DOpzYwLUnbS"
      },
      "execution_count": null,
      "outputs": []
    }
  ]
}